{
 "cells": [
  {
   "cell_type": "code",
   "execution_count": 22,
   "id": "79f9bec6-2f09-4cd6-997e-242af148f82d",
   "metadata": {},
   "outputs": [
    {
     "name": "stdout",
     "output_type": "stream",
     "text": [
      "Collecting es-core-news-sm==3.8.0\n",
      "  Downloading https://github.com/explosion/spacy-models/releases/download/es_core_news_sm-3.8.0/es_core_news_sm-3.8.0-py3-none-any.whl (12.9 MB)\n",
      "     ---------------------------------------- 0.0/12.9 MB ? eta -:--:--\n",
      "     ----------------- ---------------------- 5.8/12.9 MB 39.3 MB/s eta 0:00:01\n",
      "     --------------------------------------- 12.9/12.9 MB 40.5 MB/s eta 0:00:00\n",
      "\u001b[38;5;2m[+] Download and installation successful\u001b[0m\n",
      "You can now load the package via spacy.load('es_core_news_sm')\n"
     ]
    }
   ],
   "source": [
    "!spacy download es_core_news_sm"
   ]
  },
  {
   "cell_type": "code",
   "execution_count": 23,
   "id": "ed428037-2849-4dc6-84b2-6191f069ebc2",
   "metadata": {},
   "outputs": [],
   "source": [
    "# !pip install spacy"
   ]
  },
  {
   "cell_type": "code",
   "execution_count": 24,
   "id": "62963e08-a791-47ae-8d51-2c63f51b8bcf",
   "metadata": {},
   "outputs": [],
   "source": [
    "import re\n",
    "import csv\n",
    "import json\n",
    "import pickle\n",
    "import requests\n",
    "import pandas as pd\n",
    "import numpy as np\n",
    "import matplotlib.pyplot as plt\n",
    "from tqdm import tqdm\n",
    "from sklearn.feature_extraction.text import TfidfVectorizer\n",
    "from sklearn.decomposition import LatentDirichletAllocation\n",
    "from sklearn.model_selection import GridSearchCV\n",
    "from sklearn.cluster import KMeans\n",
    "from sklearn.metrics import silhouette_score\n",
    "import spacy\n",
    "from spellchecker import SpellChecker\n",
    "spell = SpellChecker(language='es')\n",
    "nlp = spacy.load('es_core_news_sm') # For lemmatizing the words"
   ]
  },
  {
   "cell_type": "code",
   "execution_count": 25,
   "id": "ad7cb937-f340-4946-a4e1-03b825b9d0ce",
   "metadata": {},
   "outputs": [],
   "source": [
    "import pyLDAvis\n",
    "import pyLDAvis.lda_model\n",
    "pyLDAvis.enable_notebook()"
   ]
  },
  {
   "cell_type": "code",
   "execution_count": 26,
   "id": "c6847b47-9582-4223-a36a-534f62a506b7",
   "metadata": {},
   "outputs": [
    {
     "data": {
      "text/plain": [
       "(742, 10)"
      ]
     },
     "execution_count": 26,
     "metadata": {},
     "output_type": "execute_result"
    }
   ],
   "source": [
    "bills = pd.read_csv('./Clean/bills.csv')\n",
    "bills.shape"
   ]
  },
  {
   "cell_type": "code",
   "execution_count": 27,
   "id": "50157072-3080-45e8-a900-a788ba736cac",
   "metadata": {},
   "outputs": [
    {
     "data": {
      "text/html": [
       "<div>\n",
       "<style scoped>\n",
       "    .dataframe tbody tr th:only-of-type {\n",
       "        vertical-align: middle;\n",
       "    }\n",
       "\n",
       "    .dataframe tbody tr th {\n",
       "        vertical-align: top;\n",
       "    }\n",
       "\n",
       "    .dataframe thead th {\n",
       "        text-align: right;\n",
       "    }\n",
       "</style>\n",
       "<table border=\"1\" class=\"dataframe\">\n",
       "  <thead>\n",
       "    <tr style=\"text-align: right;\">\n",
       "      <th></th>\n",
       "      <th>Unnamed: 0</th>\n",
       "      <th>number</th>\n",
       "      <th>title</th>\n",
       "      <th>Autores</th>\n",
       "      <th>type_bill</th>\n",
       "      <th>year</th>\n",
       "      <th>period</th>\n",
       "      <th>state_bill</th>\n",
       "      <th>authors_positions</th>\n",
       "      <th>authors_count</th>\n",
       "    </tr>\n",
       "  </thead>\n",
       "  <tbody>\n",
       "    <tr>\n",
       "      <th>0</th>\n",
       "      <td>0</td>\n",
       "      <td>PL331-22</td>\n",
       "      <td>PL 331-23 Seguridad Digital</td>\n",
       "      <td>['ANA MARÍA CASTAÑEDA GÓMEZ', 'DAVID LUNA SÁNC...</td>\n",
       "      <td>Proyecto de ley</td>\n",
       "      <td>2022-2023</td>\n",
       "      <td>2022 - 2026</td>\n",
       "      <td>archivado</td>\n",
       "      <td>-0.666667</td>\n",
       "      <td>3.0</td>\n",
       "    </tr>\n",
       "    <tr>\n",
       "      <th>1</th>\n",
       "      <td>2</td>\n",
       "      <td>PL321-22</td>\n",
       "      <td>PL 321-23 Servicios Aereos</td>\n",
       "      <td>['ALEX JAVIER FLÓREZ HERNÁNDEZ.']</td>\n",
       "      <td>Proyecto de ley</td>\n",
       "      <td>2022-2023</td>\n",
       "      <td>2022 - 2026</td>\n",
       "      <td>archivado</td>\n",
       "      <td>1.000000</td>\n",
       "      <td>1.0</td>\n",
       "    </tr>\n",
       "    <tr>\n",
       "      <th>2</th>\n",
       "      <td>3</td>\n",
       "      <td>PL320-22</td>\n",
       "      <td>PL 320-23 Servicio Público de EnergiaDescargar</td>\n",
       "      <td>['JOSÉ DAVID NAME CARDOZO', 'EDGAR DE JESÚS DÍ...</td>\n",
       "      <td>Proyecto de ley</td>\n",
       "      <td>2022-2023</td>\n",
       "      <td>2022 - 2026</td>\n",
       "      <td>archivado</td>\n",
       "      <td>0.500000</td>\n",
       "      <td>8.0</td>\n",
       "    </tr>\n",
       "    <tr>\n",
       "      <th>3</th>\n",
       "      <td>4</td>\n",
       "      <td>PL319-22</td>\n",
       "      <td>PL 319-23 Violencia Vicaria</td>\n",
       "      <td>['NADIA GEORGETTE BLEL SCAFF']</td>\n",
       "      <td>Proyecto de ley</td>\n",
       "      <td>2022-2023</td>\n",
       "      <td>2022 - 2026</td>\n",
       "      <td>archivado</td>\n",
       "      <td>0.000000</td>\n",
       "      <td>1.0</td>\n",
       "    </tr>\n",
       "    <tr>\n",
       "      <th>4</th>\n",
       "      <td>5</td>\n",
       "      <td>PL309-22</td>\n",
       "      <td>PL 309-23 Corridas de Toros</td>\n",
       "      <td>['Ministro de Cultura', 'Dr. JORGE IGNACIO ZOR...</td>\n",
       "      <td>Proyecto de ley</td>\n",
       "      <td>2022-2023</td>\n",
       "      <td>2022 - 2026</td>\n",
       "      <td>ley</td>\n",
       "      <td>0.930233</td>\n",
       "      <td>43.0</td>\n",
       "    </tr>\n",
       "    <tr>\n",
       "      <th>5</th>\n",
       "      <td>6</td>\n",
       "      <td>PL308-22</td>\n",
       "      <td>PL 308-23 Ley Cero</td>\n",
       "      <td>['KARINA ESPINOSA OLIVER', 'OSCAR MAURICIO GIR...</td>\n",
       "      <td>Proyecto de ley</td>\n",
       "      <td>2022-2023</td>\n",
       "      <td>2022 - 2026</td>\n",
       "      <td>archivado</td>\n",
       "      <td>-0.054054</td>\n",
       "      <td>37.0</td>\n",
       "    </tr>\n",
       "    <tr>\n",
       "      <th>6</th>\n",
       "      <td>7</td>\n",
       "      <td>PL306-22</td>\n",
       "      <td>PL 306-23 Contraloría</td>\n",
       "      <td>['JUAN FELIPE LEMOS URIBE', 'EDGAR DE JESÚS DÍ...</td>\n",
       "      <td>Proyecto de ley</td>\n",
       "      <td>2022-2023</td>\n",
       "      <td>2022 - 2026</td>\n",
       "      <td>ley</td>\n",
       "      <td>0.000000</td>\n",
       "      <td>23.0</td>\n",
       "    </tr>\n",
       "    <tr>\n",
       "      <th>7</th>\n",
       "      <td>8</td>\n",
       "      <td>PL305-22</td>\n",
       "      <td>PL 305-23 Administraciones Distritales</td>\n",
       "      <td>['JORGE ELIECER TAMAYO MARULANDA', 'JOSÉ ELIÉC...</td>\n",
       "      <td>Proyecto de ley</td>\n",
       "      <td>2022-2023</td>\n",
       "      <td>2022 - 2026</td>\n",
       "      <td>archivado</td>\n",
       "      <td>0.380952</td>\n",
       "      <td>21.0</td>\n",
       "    </tr>\n",
       "    <tr>\n",
       "      <th>8</th>\n",
       "      <td>9</td>\n",
       "      <td>PL304-22</td>\n",
       "      <td>PL 304-23 Medalla Edwin KemmererDescargar</td>\n",
       "      <td>['JORGE BENEDETTI MARTELO', 'ROY BARRERAS MONT...</td>\n",
       "      <td>Proyecto de ley</td>\n",
       "      <td>2022-2023</td>\n",
       "      <td>2022 - 2026</td>\n",
       "      <td>ley</td>\n",
       "      <td>-0.379310</td>\n",
       "      <td>29.0</td>\n",
       "    </tr>\n",
       "    <tr>\n",
       "      <th>9</th>\n",
       "      <td>10</td>\n",
       "      <td>PL302-22</td>\n",
       "      <td>PL 302-23 Contratación</td>\n",
       "      <td>['HONORIO MIGUEL HENRÍQUEZ PINEDO', 'ENRIQUE C...</td>\n",
       "      <td>Proyecto de ley</td>\n",
       "      <td>2022-2023</td>\n",
       "      <td>2022 - 2026</td>\n",
       "      <td>archivado</td>\n",
       "      <td>-1.000000</td>\n",
       "      <td>14.0</td>\n",
       "    </tr>\n",
       "  </tbody>\n",
       "</table>\n",
       "</div>"
      ],
      "text/plain": [
       "   Unnamed: 0    number                                            title  \\\n",
       "0           0  PL331-22                      PL 331-23 Seguridad Digital   \n",
       "1           2  PL321-22                       PL 321-23 Servicios Aereos   \n",
       "2           3  PL320-22  PL 320-23 Servicio Público de EnergiaDescargar    \n",
       "3           4  PL319-22                      PL 319-23 Violencia Vicaria   \n",
       "4           5  PL309-22                      PL 309-23 Corridas de Toros   \n",
       "5           6  PL308-22                               PL 308-23 Ley Cero   \n",
       "6           7  PL306-22                            PL 306-23 Contraloría   \n",
       "7           8  PL305-22           PL 305-23 Administraciones Distritales   \n",
       "8           9  PL304-22       PL 304-23 Medalla Edwin KemmererDescargar    \n",
       "9          10  PL302-22                           PL 302-23 Contratación   \n",
       "\n",
       "                                             Autores        type_bill  \\\n",
       "0  ['ANA MARÍA CASTAÑEDA GÓMEZ', 'DAVID LUNA SÁNC...  Proyecto de ley   \n",
       "1                  ['ALEX JAVIER FLÓREZ HERNÁNDEZ.']  Proyecto de ley   \n",
       "2  ['JOSÉ DAVID NAME CARDOZO', 'EDGAR DE JESÚS DÍ...  Proyecto de ley   \n",
       "3                     ['NADIA GEORGETTE BLEL SCAFF']  Proyecto de ley   \n",
       "4  ['Ministro de Cultura', 'Dr. JORGE IGNACIO ZOR...  Proyecto de ley   \n",
       "5  ['KARINA ESPINOSA OLIVER', 'OSCAR MAURICIO GIR...  Proyecto de ley   \n",
       "6  ['JUAN FELIPE LEMOS URIBE', 'EDGAR DE JESÚS DÍ...  Proyecto de ley   \n",
       "7  ['JORGE ELIECER TAMAYO MARULANDA', 'JOSÉ ELIÉC...  Proyecto de ley   \n",
       "8  ['JORGE BENEDETTI MARTELO', 'ROY BARRERAS MONT...  Proyecto de ley   \n",
       "9  ['HONORIO MIGUEL HENRÍQUEZ PINEDO', 'ENRIQUE C...  Proyecto de ley   \n",
       "\n",
       "        year       period state_bill  authors_positions  authors_count  \n",
       "0  2022-2023  2022 - 2026  archivado          -0.666667            3.0  \n",
       "1  2022-2023  2022 - 2026  archivado           1.000000            1.0  \n",
       "2  2022-2023  2022 - 2026  archivado           0.500000            8.0  \n",
       "3  2022-2023  2022 - 2026  archivado           0.000000            1.0  \n",
       "4  2022-2023  2022 - 2026        ley           0.930233           43.0  \n",
       "5  2022-2023  2022 - 2026  archivado          -0.054054           37.0  \n",
       "6  2022-2023  2022 - 2026        ley           0.000000           23.0  \n",
       "7  2022-2023  2022 - 2026  archivado           0.380952           21.0  \n",
       "8  2022-2023  2022 - 2026        ley          -0.379310           29.0  \n",
       "9  2022-2023  2022 - 2026  archivado          -1.000000           14.0  "
      ]
     },
     "execution_count": 27,
     "metadata": {},
     "output_type": "execute_result"
    }
   ],
   "source": [
    "bills.head(10)"
   ]
  },
  {
   "cell_type": "code",
   "execution_count": 28,
   "id": "3a0f73a9-78da-4c1f-a198-86efdfb44c6a",
   "metadata": {},
   "outputs": [],
   "source": [
    "# Read all the txt files in the folder and put them in an array in the order specified\n",
    "# Returns also only the titles it found\n",
    "def get_bills_text(bills_path, file_names):\n",
    "  bills_txt = []\n",
    "  names_found = []\n",
    "  for bill in file_names:\n",
    "    try:\n",
    "      with open(bills_path + '/' + bill + '_ocr.txt', 'r', encoding=\"utf8\") as f:\n",
    "        bills_txt.append(f.read())\n",
    "        names_found.append(bill)\n",
    "    except FileNotFoundError:\n",
    "      print(f\"File {bill}_ocr.txt not found.\")\n",
    "  return bills_txt, names_found"
   ]
  },
  {
   "cell_type": "code",
   "execution_count": 8,
   "id": "ee5a10ad-df33-4cc9-92fd-aebb5bd4a219",
   "metadata": {},
   "outputs": [
    {
     "name": "stdout",
     "output_type": "stream",
     "text": [
      "File PL-284S-2023--196C-2022 Honores SalentoDescargar _ocr.txt not found.\n",
      "File PL-271S-2022 Derecho a la gestion comunitaria del  agua_ocr.txt not found.\n",
      "File PL-234 Convención interamericana contra toda forma de discriminación e intolerancia_ocr.txt not found.\n",
      "File PL-231 Servicio público domiciliario esencial de gas natural en nuevas viviendas de interés social VIS y viviendas de interés prioritario VIP_ocr.txt not found.\n",
      "File PL-225 Trabajador Bananero_ocr.txt not found.\n",
      "File PL-224 Perros guia_ocr.txt not found.\n",
      "File PL-223 Participacion de los jovenes_ocr.txt not found.\n",
      "File PL-206 Divorcio_ocr.txt not found.\n",
      "File PL-200 Canales de comercializacion para pequeños y medianos productores_ocr.txt not found.\n",
      "File PL-199 Patrimonio Cultural Encuentro Nacional del Tiple - Envigado_ocr.txt not found.\n",
      "File PL-189 Honores Jose Maria Cordoba_ocr.txt not found.\n",
      "File PL-181 Politica de paz de estado_ocr.txt not found.\n",
      "File PL-090 Protesta social_ocr.txt not found.\n",
      "File PL 042-23 Hurto_ocr.txt not found.\n",
      "File PL 252-24 Descargar _ocr.txt not found.\n",
      "File PL 231-24 DIA DEL BOMBERO_ocr.txt not found.\n",
      "File PL 185-24 POLÍTICA PÚBLICA DE AGUA_ocr.txt not found.\n",
      "File PL 133-24_ocr.txt not found.\n",
      "(724, 10) 724\n"
     ]
    }
   ],
   "source": [
    "file_names = bills['title'].values\n",
    "    # Read all the txt files in the folder and put them in an array in the order specified\n",
    "texts, bills_found = get_bills_text('./Raw/Bills_txt', file_names)\n",
    "labels_df = bills[bills['title'].isin(bills_found)].copy()\n",
    "labels_df.reset_index(drop=True, inplace=True)\n",
    "print(labels_df.shape, len(texts))"
   ]
  },
  {
   "cell_type": "code",
   "execution_count": 9,
   "id": "d5b04c1f-aada-4189-b8bd-d7bbf7e7faac",
   "metadata": {},
   "outputs": [
    {
     "data": {
      "text/plain": [
       "'Pe CONGRESO cali DELAREPUÚ, DE COLOMBIA, 4. O Bogotá D.C., 26 de abril de 2023 Doctor GREGORIO ELJAS PACHECO Secretario General Senado de la República Bogotá D.C. REY: RADICACIÓN PROYECTO DE LEY Respetado Señor Secretario General: En nuestra condición de miembros del Congreso de la República y en uso del derecho consagrado en el artículo 150 de la Constitución Política de Colombia, por su digno conducto nos permitimos poner a consideración del Honorable Congreso de la República, el siguiente pro'"
      ]
     },
     "execution_count": 9,
     "metadata": {},
     "output_type": "execute_result"
    }
   ],
   "source": [
    "texts[4][:500]"
   ]
  },
  {
   "cell_type": "code",
   "execution_count": 10,
   "id": "cf9473be-9999-43fa-afa0-08afa0c45f1d",
   "metadata": {},
   "outputs": [],
   "source": [
    "def check_word(word):\n",
    "    return word.lower() not in spell.unknown([word])"
   ]
  },
  {
   "cell_type": "code",
   "execution_count": 11,
   "id": "5aca9920-7890-480b-a34a-1eab0847db4c",
   "metadata": {},
   "outputs": [],
   "source": [
    "def lemmatize_words(text, stop_words):\n",
    "    words = text.split(' ')\n",
    "    lemmatized = []\n",
    "    for word in words:\n",
    "        if check_word(word) and word not in stop_words:  # Check if the word exists in spanish or is a mistake from OCR or a typo or a stop word\n",
    "            doc = nlp(word)\n",
    "            if len(doc) > 0:\n",
    "                lemmatized.append(doc[0].lemma_)\n",
    "    return lemmatized"
   ]
  },
  {
   "cell_type": "code",
   "execution_count": 12,
   "id": "4f5693d0-4b55-4e69-8e07-e9e3a32c1eac",
   "metadata": {},
   "outputs": [],
   "source": [
    "def text_preprocessing(texts, stop_words):\n",
    "    text_cln = []\n",
    "    for text in tqdm(texts):\n",
    "        text = re.sub(r'[\\W\\d_]+', ' ', text.strip().lower())\n",
    "        text_cln.append(' '.join(lemmatize_words(text, stop_words)))\n",
    "        # text_cln.append(text)\n",
    "    return text_cln"
   ]
  },
  {
   "cell_type": "code",
   "execution_count": 29,
   "id": "4e3d5719-0411-4ff6-99e8-df575114829d",
   "metadata": {},
   "outputs": [
    {
     "name": "stdout",
     "output_type": "stream",
     "text": [
      "44\n",
      "1260\n",
      "1715\n"
     ]
    },
    {
     "data": {
      "text/plain": [
       "1818"
      ]
     },
     "execution_count": 29,
     "metadata": {},
     "output_type": "execute_result"
    }
   ],
   "source": [
    "# https://github.com/Alir3z4/stop-words/blob/master/spanish.txt\n",
    "# Get stop words\n",
    "stop_words = ['artículo', 'ley', 'congreso', 'cámara', 'senado', 'representantes', 'senador', 'senadora', 'ministerio', 'partido', 'político',\n",
    "              'representante', 'colombia', 'república', 'edificio', 'calle', 'carrera', 'padilla', 'oficina', 'paloma', 'esmeralda',\n",
    "              'teléfono', 'piso', 'proyecto', 'nacional', 'país', 'html', 'www', 'com', 'co', 'gov', 'público', 'presente', 'parágrafo', 'general', \n",
    "              'información', 'congresista', 'página', 'interés', 'objeto', 'aplicar', 'copia', 'medio', 'ministro']\n",
    "print(len(stop_words))\n",
    "with open('./Raw/spanish.txt', 'r', encoding=\"utf8\") as f:\n",
    "    for line in f:\n",
    "        stop_words.append(line.strip())\n",
    "response = requests.get('https://raw.githubusercontent.com/Alir3z4/stop-words/refs/heads/master/spanish.txt')\n",
    "response.raise_for_status()\n",
    "stop_words += response.text.splitlines()\n",
    "print(len(stop_words))\n",
    "# cleaning the names and last names that may appear in the text (congresspeople's names and heads of other entities)\n",
    "# https://github.com/olea/lemarios/blob/master/nombres-propios-es.txt\n",
    "# https://github.com/olea/lemarios/blob/master/apellidos-es.txt\n",
    "response = requests.get('https://raw.githubusercontent.com/olea/lemarios/refs/heads/master/nombres-propios-es.txt')\n",
    "response.raise_for_status()\n",
    "stop_words += response.text.splitlines()\n",
    "print(len(stop_words))\n",
    "response = requests.get('https://raw.githubusercontent.com/olea/lemarios/refs/heads/master/apellidos-es.txt')\n",
    "response.raise_for_status() \n",
    "stop_words += response.text.splitlines()\n",
    "len(stop_words)"
   ]
  },
  {
   "cell_type": "code",
   "execution_count": 14,
   "id": "d7eeaec7-9981-4dc2-8b03-8027e49263e0",
   "metadata": {},
   "outputs": [
    {
     "data": {
      "text/plain": [
       "725"
      ]
     },
     "execution_count": 14,
     "metadata": {},
     "output_type": "execute_result"
    }
   ],
   "source": [
    "import os\n",
    "if os.path.isfile(\"text_cln.pkl\"):\n",
    "    with open(\"text_cln.pkl\", 'rb') as f:\n",
    "        text_cln = pickle.load(f)\n",
    "else:\n",
    "    text_cln = text_preprocessing(texts, stop_words)\n",
    "len(text_cln)"
   ]
  },
  {
   "cell_type": "code",
   "execution_count": 15,
   "id": "20de184e-4d67-4fb5-ba4a-009454109a57",
   "metadata": {},
   "outputs": [],
   "source": [
    "# Save the array to a pickle file\n",
    "with open(\"text_cln.pkl\", \"wb\") as f:\n",
    "    pickle.dump(text_cln, f)"
   ]
  },
  {
   "cell_type": "code",
   "execution_count": 16,
   "id": "2097cd8e-b203-45e2-a580-fcf99b3859f4",
   "metadata": {},
   "outputs": [
    {
     "data": {
      "image/png": "[encoded data removed]",
      "text/plain": [
       "<Figure size 640x480 with 1 Axes>"
      ]
     },
     "metadata": {},
     "output_type": "display_data"
    }
   ],
   "source": [
    "plt.hist([len(doc) for doc in text_cln], bins=100) \n",
    "plt.show()"
   ]
  },
  {
   "cell_type": "code",
   "execution_count": 17,
   "id": "60c6387e-b718-4566-9cb8-76910ca8fee8",
   "metadata": {},
   "outputs": [
    {
     "data": {
      "text/plain": [
       "'medio reforma cambiar denominación ministerio cultura término economía naranja medio reforma cambiar denominación ministerio cultura término economía naranja objeto presente objeto cambiar denominación ministerio cultura ministerio diverso pueblo colombiano reconocido constitución político ampliar denominación economía naranja ministerio ministerio organismo rector cultura encargado formular coordinar ejecutar vigilar político materia concordancia desarrollo participación ministerio cargo presen'"
      ]
     },
     "execution_count": 17,
     "metadata": {},
     "output_type": "execute_result"
    }
   ],
   "source": [
    "text_cln[29][:500]"
   ]
  },
  {
   "cell_type": "code",
   "execution_count": 18,
   "id": "aef3fda3-f956-401a-a05b-329f5e844343",
   "metadata": {},
   "outputs": [
    {
     "name": "stderr",
     "output_type": "stream",
     "text": [
      "C:\\Users\\Daniel Cardenas\\AppData\\Local\\Programs\\Python\\Python312\\Lib\\site-packages\\sklearn\\feature_extraction\\text.py:408: UserWarning: Your stop_words may be inconsistent with your preprocessing. Tokenizing the stop words generated tokens ['aarón', 'abdón', 'abel', 'abelardo', 'abrahán', 'absalón', 'acacio', 'adalberto', 'adela', 'adelaida', 'adolfo', 'adrián', 'adán', 'adón', 'aguilar', 'agustín', 'aitor', 'alba', 'albert', 'alberto', 'albina', 'alejandra', 'alejandro', 'alejo', 'alfonso', 'alfredo', 'alicia', 'alipio', 'almudena', 'alonso', 'amadeo', 'amaro', 'ambrosio', 'amelia', 'amparo', 'ana', 'ananías', 'anastasia', 'anatolio', 'andrea', 'andrés', 'aniano', 'anna', 'anselmo', 'antero', 'antonia', 'antonio', 'aquiles', 'araceli', 'arcadio', 'aresio', 'ariadna', 'arias', 'aristides', 'arnaldo', 'artemio', 'arturo', 'aránzazu', 'ascensión', 'asunción', 'atanasio', 'augusto', 'aurelia', 'aureliano', 'aurelio', 'aurora', 'baldomero', 'balduino', 'baltasar', 'bartolomé', 'basileo', 'beatriz', 'begoña', 'beltrán', 'belén', 'benedicto', 'benigno', 'benito', 'benjamín', 'benítez', 'bernabé', 'bernarda', 'bernardo', 'blanca', 'blanco', 'blas', 'blesa', 'bonifacio', 'borja', 'bravo', 'bruno', 'bárbara', 'caballero', 'cabrera', 'calixto', 'calvo', 'cambil', 'camilo', 'campos', 'cano', 'carina', 'carlos', 'carmelo', 'carmen', 'carmona', 'carolina', 'carrasco', 'casiano', 'casimiro', 'casio', 'castillo', 'castro', 'catalina', 'cayetano', 'cayo', 'cecilia', 'ceferino', 'celia', 'celina', 'celso', 'cesáreo', 'cipriano', 'cirilo', 'cirino', 'ciro', 'clara', 'claudia', 'claudio', 'cleofás', 'clotilde', 'colombo', 'columba', 'columbano', 'concepción', 'conrado', 'constancio', 'constantino', 'consuelo', 'cortés', 'cosme', 'crespo', 'cristian', 'cristina', 'cristóbal', 'cruz', 'cándida', 'césar', 'daciano', 'dacio', 'damián', 'daniel', 'dario', 'david', 'delgado', 'demócrito', 'diego', 'dimas', 'dolores', 'domingo', 'domínguez', 'donato', 'dorotea', 'durán', 'dámaso', 'díaz', 'díez', 'edgar', 'edmundo', 'eduardo', 'eduvigis', 'efrén', 'elena', 'elisa', 'eliseo', 'elvira', 'elías', 'emilia', 'emiliano', 'emilio', 'encarnación', 'enrique', 'epifanía', 'erico', 'ernesto', 'esdras', 'esiquio', 'esperanza', 'esteban', 'ester', 'esther', 'eugenia', 'eugenio', 'eulalia', 'eusebio', 'eva', 'evaristo', 'ezequiel', 'fabio', 'fabiola', 'fabián', 'facundo', 'faustino', 'fausto', 'federico', 'feliciano', 'felipe', 'fermín', 'fernando', 'fernández', 'ferrer', 'fidel', 'flores', 'fortunato', 'francesc', 'francisca', 'francisco', 'fuentes', 'fulgencio', 'fátima', 'félix', 'gabriel', 'gallardo', 'gallego', 'garcía', 'garrido', 'gema', 'genoveva', 'gerardo', 'germán', 'gertrudis', 'gil', 'giménez', 'gisela', 'gloria', 'godofredo', 'gonzalo', 'gonzález', 'gregorio', 'guadalupe', 'guerrero', 'guido', 'guillermo', 'gustavo', 'gutiérrez', 'guzmán', 'gómez', 'heliodoro', 'heraclio', 'heriberto', 'hernández', 'herrera', 'herrero', 'hidalgo', 'hilarión', 'hildegarda', 'homero', 'honorato', 'honorio', 'hugo', 'humberto', 'héctor', 'ibáñez', 'ifigenia', 'iglesias', 'ignacio', 'ildefonso', 'inmaculada', 'inocencio', 'inés', 'irene', 'ireneo', 'isaac', 'isabel', 'isaías', 'isidro', 'ismael', 'iván', 'jacinto', 'jacob', 'jacobo', 'jaime', 'jaume', 'javier', 'jeremías', 'jerónimo', 'jesús', 'jiménez', 'joan', 'joaquím', 'joaquín', 'joel', 'jonathan', 'jonás', 'jordi', 'jorge', 'josafat', 'josefa', 'josefina', 'josep', 'josué', 'josé', 'juan', 'juana', 'julia', 'julio', 'julián', 'justino', 'juvenal', 'ladislao', 'laura', 'laureano', 'leandro', 'leocadia', 'leonardo', 'leoncio', 'leonor', 'leopoldo', 'león', 'lidia', 'liduvina', 'lino', 'lorena', 'lorenzo', 'lourdes', 'lozano', 'lucano', 'lucas', 'luciano', 'lucrecia', 'lucía', 'luis', 'luisa', 'luz', 'lázaro', 'lópez', 'macario', 'magdalena', 'manuel', 'manuela', 'mar', 'marc', 'marcelino', 'marcelo', 'marcial', 'marciano', 'marcos', 'margarita', 'mariano', 'marina', 'mario', 'marta', 'martín', 'martínez', 'maría', 'marín', 'mateo', 'matilde', 'matías', 'mauricio', 'maximiliano', 'medina', 'melchor', 'mercedes', 'miguel', 'milagros', 'miqueas', 'mohamed', 'moisés', 'molina', 'montero', 'montoro', 'montserrat', 'mora', 'morales', 'moreno', 'moya', 'muñoz', 'márquez', 'méndez', 'míriam', 'mónica', 'narciso', 'natalia', 'natividad', 'navarro', 'nazario', 'nemesio', 'nicanor', 'nicodemo', 'nicolás', 'nicomedes', 'nieto', 'nieves', 'noelia', 'norberto', 'noé', 'nuria', 'núñez', 'octavio', 'odón', 'olga', 'onésimo', 'orestes', 'oriol', 'ortega', 'ortiz', 'oscar', 'oseas', 'oswaldo', 'otilia', 'oto', 'pablo', 'pancracio', 'parra', 'pascual', 'pastor', 'patricia', 'patricio', 'paula', 'pedro', 'petronila', 'peña', 'pilar', 'poncio', 'porfirio', 'prieto', 'primo', 'priscila', 'probo', 'purificación', 'pérez', 'pío', 'rafael', 'raimundo', 'ramiro', 'ramos', 'ramírez', 'ramón', 'raquel', 'raúl', 'rebeca', 'reinaldo', 'remedios', 'renato', 'rey', 'reyes', 'ricardo', 'rigoberto', 'rita', 'roberto', 'rocío', 'rodrigo', 'rodríguez', 'rogelio', 'romero', 'romualdo', 'román', 'roque', 'rosa', 'rosalia', 'rosario', 'rosendo', 'rubio', 'rubén', 'rufo', 'ruiz', 'ruperto', 'salomé', 'salomón', 'salvador', 'salvio', 'samuel', 'sandra', 'sansón', 'santana', 'santiago', 'santos', 'sanz', 'sara', 'sebastián', 'segismundo', 'sergio', 'serrano', 'severino', 'silvia', 'simeón', 'simón', 'siro', 'sixto', 'sofía', 'soledad', 'soler', 'sonia', 'soto', 'susana', 'suárez', 'sáez', 'sánchez', 'tadeo', 'tarsicio', 'teodora', 'teodosia', 'teresa', 'teófanes', 'teófila', 'timoteo', 'tito', 'tobías', 'tomas', 'tomás', 'toribio', 'torres', 'trinidad', 'ubaldo', 'urbano', 'valentín', 'valeriano', 'vanesa', 'vargas', 'vega', 'velasco', 'velerio', 'venancio', 'verónica', 'vicenta', 'vicente', 'victoria', 'victorino', 'victorio', 'vidal', 'virgilio', 'virginia', 'vladimiro', 'vázquez', 'víctor', 'wilfredo', 'xavier', 'yolanda', 'zacarías', 'zaqueo', 'álvarez', 'álvaro', 'ángel', 'ángela', 'ángeles', 'áurea', 'óscar', 'úrsula'] not in stop_words.\n",
      "  warnings.warn(\n"
     ]
    },
    {
     "data": {
      "text/plain": [
       "(725, 1692)"
      ]
     },
     "execution_count": 18,
     "metadata": {},
     "output_type": "execute_result"
    }
   ],
   "source": [
    "tfidf_vect = TfidfVectorizer(min_df=0.1, max_df=0.90, stop_words=stop_words, sublinear_tf=False, strip_accents=None)\n",
    "tfidf = tfidf_vect.fit_transform(text_cln)\n",
    "tfidf.shape"
   ]
  },
  {
   "cell_type": "markdown",
   "id": "845c8b29-7bea-431d-a8b3-1d3742314c44",
   "metadata": {},
   "source": [
    "# K-Means"
   ]
  },
  {
   "cell_type": "code",
   "execution_count": 19,
   "id": "281e67ec-1f94-403c-8fd5-6339ae58c707",
   "metadata": {},
   "outputs": [],
   "source": [
    "labels = KMeans(init='k-means++', n_clusters=3, random_state=0, n_init=100).fit_predict(tfidf)"
   ]
  },
  {
   "cell_type": "code",
   "execution_count": 20,
   "id": "66cc5557-c8ba-4e5d-b57f-1a64271abe7c",
   "metadata": {},
   "outputs": [
    {
     "name": "stderr",
     "output_type": "stream",
     "text": [
      "\n",
      "KeyboardInterrupt\n",
      "\n"
     ]
    }
   ],
   "source": [
    "k_range = range(3,30)\n",
    "inertia = []\n",
    "silhouette = []\n",
    "\n",
    "for i in k_range:\n",
    "    km_i = KMeans(init='k-means++', n_clusters=i, max_iter=100000,\n",
    "                  random_state=0, n_init=100)\n",
    "    inertia.append(km_i.fit(tfidf).inertia_)\n",
    "    silhouette.append(silhouette_score(tfidf, km_i.fit_predict(tfidf), metric='cosine'))"
   ]
  },
  {
   "cell_type": "code",
   "execution_count": null,
   "id": "b9191a1c-dd5e-4549-b8ac-7326be3f2df0",
   "metadata": {},
   "outputs": [],
   "source": [
    "plt.plot(k_range, inertia)\n",
    "plt.xlabel('Number of Clusters')\n",
    "plt.ylabel('SSE')\n",
    "plt.title('Sum of Squared Errors')\n",
    "plt.show()"
   ]
  },
  {
   "cell_type": "code",
   "execution_count": null,
   "id": "3a5685c1-5aa6-48c7-a69b-af2681322448",
   "metadata": {},
   "outputs": [],
   "source": [
    "plt.plot(k_range, silhouette)\n",
    "plt.xlabel('Number of Clusters')\n",
    "plt.ylabel('Score')\n",
    "plt.title('Silhouette Score')\n",
    "plt.show()"
   ]
  },
  {
   "cell_type": "code",
   "execution_count": null,
   "id": "e8b78b1a-d49b-4202-84ee-92d4e867b66d",
   "metadata": {},
   "outputs": [],
   "source": [
    "arr = np.array(labels)\n",
    "unique, counts = np.unique(arr, return_counts=True)\n",
    "\n",
    "print(dict(zip(unique, counts)))"
   ]
  },
  {
   "cell_type": "markdown",
   "id": "b175932f-e7e8-4d60-9063-0960da25e394",
   "metadata": {},
   "source": [
    "# LDA"
   ]
  },
  {
   "cell_type": "code",
   "execution_count": 30,
   "id": "1d284e90-c9c3-4af0-8de3-fd0e034bba9b",
   "metadata": {},
   "outputs": [
    {
     "name": "stdout",
     "output_type": "stream",
     "text": [
      "Fitting 5 folds for each of 14 candidates, totalling 70 fits\n",
      "Best Model's Params:  {'learning_decay': 0.5, 'n_components': 10}\n",
      "Best Log Likelihood Score:  -24382.529417591268\n"
     ]
    }
   ],
   "source": [
    "search_params = {\n",
    "  'n_components': [10, 15, 18, 19, 20, 25, 30],\n",
    "  'learning_decay': [.5, .7]\n",
    "}\n",
    "# Set up LDA with the options we'll keep static\n",
    "model = LatentDirichletAllocation(learning_method='online', random_state=14)\n",
    "\n",
    "# Try all of the options\n",
    "gridsearch = GridSearchCV(model, param_grid=search_params, n_jobs=-1, verbose=1)\n",
    "gridsearch.fit(tfidf)\n",
    "\n",
    "# What did we find?\n",
    "print(\"Best Model's Params: \", gridsearch.best_params_)\n",
    "print(\"Best Log Likelihood Score: \", gridsearch.best_score_)"
   ]
  },
  {
   "cell_type": "code",
   "execution_count": 31,
   "id": "3a44e611-c282-4d1a-82c3-c989c612d049",
   "metadata": {},
   "outputs": [],
   "source": [
    "LDA = LatentDirichletAllocation(random_state=14, learning_method='online', learning_decay=gridsearch.best_params_['learning_decay'], \n",
    "                                n_components=gridsearch.best_params_['n_components'])"
   ]
  },
  {
   "cell_type": "code",
   "execution_count": 32,
   "id": "9d6e019d-90d5-46e9-a5f3-7da83c611382",
   "metadata": {},
   "outputs": [
    {
     "data": {
      "text/plain": [
       "(725, 10)"
      ]
     },
     "execution_count": 32,
     "metadata": {},
     "output_type": "execute_result"
    }
   ],
   "source": [
    "theta = LDA.fit_transform(tfidf)\n",
    "theta.shape"
   ]
  },
  {
   "cell_type": "code",
   "execution_count": 33,
   "id": "54e097b8-1567-4b56-aa1f-0d56007a68f3",
   "metadata": {},
   "outputs": [
    {
     "data": {
      "text/plain": [
       "(10, 1692)"
      ]
     },
     "execution_count": 33,
     "metadata": {},
     "output_type": "execute_result"
    }
   ],
   "source": [
    "beta = LDA.components_\n",
    "beta.shape"
   ]
  },
  {
   "cell_type": "code",
   "execution_count": 34,
   "id": "520d3afe-efb3-4119-aa52-cd9ba363a065",
   "metadata": {},
   "outputs": [
    {
     "data": {
      "text/plain": [
       "array([0.00589597, 0.00589597, 0.00589597, 0.00589597, 0.00589597,\n",
       "       0.94693628, 0.00589597, 0.00589597, 0.00589597, 0.00589597])"
      ]
     },
     "execution_count": 34,
     "metadata": {},
     "output_type": "execute_result"
    }
   ],
   "source": [
    "topic_saliency = theta.sum(axis=0) / theta.sum()\n",
    "topic_saliency"
   ]
  },
  {
   "cell_type": "code",
   "execution_count": 35,
   "id": "029470d2-4b78-4c41-be0f-b60be9c4fb78",
   "metadata": {},
   "outputs": [],
   "source": [
    "# review top words\n",
    "def print_top_words(model, feature_names, n_top_words):\n",
    "    for topic_idx, topic in enumerate(model.components_):\n",
    "        message = \"Topic #%d: \" % topic_idx\n",
    "        message += \" \".join([feature_names[i]\n",
    "                             for i in topic.argsort()[:-n_top_words - 1:-1]])\n",
    "        print(message, '\\n')\n",
    "    print()"
   ]
  },
  {
   "cell_type": "code",
   "execution_count": 36,
   "id": "348775f8-dea0-4ee6-b4ea-81518b1b44b8",
   "metadata": {},
   "outputs": [
    {
     "name": "stdout",
     "output_type": "stream",
     "text": [
      "Topic #0: memorio construcción cultura paz nación gobierno cultural derecho colombiano historia decreto consejo tierra conservador constitución histórico pueblo octubre valencia cambio \n",
      "\n",
      "Topic #1: sitio social peligro afectado códecir medicina gestión pena utilización legal temprano estructural madre contado capítulo colectivo observar interior patrimonio recuperar \n",
      "\n",
      "Topic #2: agropecuario códecir condición compañía protección educación consejo establecer relación número propiedad derecho constitucional sector penal colombiano superior nación social violencia \n",
      "\n",
      "Topic #3: sistema servicio salud social garantizar democracia educación médico físico democrático edad prestación persona acceso derecho plataforma relación personal tecnología diagnóstico \n",
      "\n",
      "Topic #4: deporte tasa tránsito educación cumplimiento físico vida garantizar derecho construcción beneficio pobreza administración nivel necesario ampliación consecuencia constitucional población social \n",
      "\n",
      "Topic #5: derecho social protección constitucional gobierno sistema educación democracia constitución colombiano corte salud vida fiscal marco acceso económico iniciativa conflicto sentencia \n",
      "\n",
      "Topic #6: pobreza puesto democracia texto tipo celebración códecir mortalidad aumento educación acceso sección nivel oro permanente numeral aceptación menor comisión rural \n",
      "\n",
      "Topic #7: militar protección laboral ciento derecho ejecutivo gobierno internacional reserva departamento nación compensación ámbito promover marco conflicto materia cumplimiento constitucional edad \n",
      "\n",
      "Topic #8: crédito sistema sector social acceso colombiano financiero democracia garantizar departamento vida mercado compra plazo atención calidad entidad banco población protección \n",
      "\n",
      "Topic #9: social programa apoyo participación corte actividad educación cargo fiscal administración administrativo departamento gobierno nación aporte económico entidad ciudadanir colombiano sentencia \n",
      "\n",
      "\n"
     ]
    }
   ],
   "source": [
    "features = tfidf_vect.get_feature_names_out()\n",
    "print_top_words(model=LDA, feature_names = features, n_top_words = 20)"
   ]
  },
  {
   "cell_type": "code",
   "execution_count": null,
   "id": "07816773-cabc-4560-9e27-79e2f65345f8",
   "metadata": {},
   "outputs": [],
   "source": [
    "def plot_top_words(model, feature_names, n_top_words, topic_saliency, title):\n",
    "    fig, axes = plt.subplots(1, len(topic_saliency), figsize=(30, 15), sharex=False)\n",
    "    axes = axes.flatten()\n",
    "    for topic_idx, topic in enumerate(model.components_):\n",
    "        topic_dist = topic / topic.sum()  \n",
    "        top_features_ind = topic_dist.argsort()[-n_top_words:]\n",
    "        top_features = feature_names[top_features_ind]\n",
    "        weights = topic_dist[top_features_ind]\n",
    "\n",
    "        ax = axes[topic_idx]\n",
    "        ax.barh(top_features, weights, height=0.7)\n",
    "        ax.set_title(f\"Topic {topic_idx +1}\\n({round(topic_saliency[topic_idx]*100, 2)}% of docs)\", fontdict={\"fontsize\": 30})\n",
    "        ax.tick_params(axis=\"both\", which=\"major\", labelsize=20)\n",
    "        for i in \"top right left\".split():\n",
    "            ax.spines[i].set_visible(False)\n",
    "        fig.suptitle(title, fontsize=40)\n",
    "\n",
    "    plt.subplots_adjust(top=0.90, bottom=0.05, wspace=0.90, hspace=0.3)\n",
    "    plt.show()"
   ]
  },
  {
   "cell_type": "code",
   "execution_count": null,
   "id": "e7964547-01c7-476f-9def-118fa00d3b46",
   "metadata": {},
   "outputs": [],
   "source": [
    "plot_top_words(model=LDA, feature_names = features, topic_saliency=topic_saliency, n_top_words = 20, title='Topics in the bills')"
   ]
  },
  {
   "cell_type": "code",
   "execution_count": null,
   "id": "31bbb454-7267-45d0-81ee-bfe2b95fe8ad",
   "metadata": {},
   "outputs": [],
   "source": [
    "pyLDAvis.enable_notebook()\n",
    "vis = pyLDAvis.lda_model.prepare(LDA, tfidf, tfidf_vect)\n",
    "vis"
   ]
  },
  {
   "cell_type": "code",
   "execution_count": null,
   "id": "a75cc41f-7b26-4922-a13f-cb2895c93be3",
   "metadata": {},
   "outputs": [],
   "source": [
    "LDA = LatentDirichletAllocation(random_state=14, \n",
    "                                learning_method='online', \n",
    "                                learning_decay= 0.7,\n",
    "                                max_iter=10,\n",
    "                                learning_offset=50.,\n",
    "                                n_components=7)\n",
    "theta = LDA.fit_transform(tfidf)\n",
    "topic_saliency = theta.sum(axis=0) / theta.sum()\n",
    "topic_saliency"
   ]
  },
  {
   "cell_type": "code",
   "execution_count": null,
   "id": "a63ae0b9-64f8-42da-9149-ec5d1ef25b0d",
   "metadata": {},
   "outputs": [],
   "source": [
    "print_top_words(model=LDA, feature_names = features, n_top_words = 20)"
   ]
  },
  {
   "cell_type": "code",
   "execution_count": null,
   "id": "7fcc18cd-5bf1-4655-a9ff-11d16dfeab35",
   "metadata": {},
   "outputs": [],
   "source": [
    "plot_top_words(model=LDA, feature_names = features, n_top_words = 20, topic_saliency=topic_saliency, title='Topics in the bills')"
   ]
  },
  {
   "cell_type": "code",
   "execution_count": null,
   "id": "3dc0cce5-e797-49ca-af3e-badb8d720d5d",
   "metadata": {},
   "outputs": [],
   "source": [
    "from gensim.models import CoherenceModel\n",
    "import gensim\n",
    "\n",
    "# Compute coherence score\n",
    "coherence_model = CoherenceModel(\n",
    "    topics=[[feature_names[i] for i in lda.components_[j].argsort()[:-10 - 1:-1]] for j in range(lda.n_components)],\n",
    "    texts=your_tokenized_documents,\n",
    "    dictionary=gensim.corpora.Dictionary(your_tokenized_documents),\n",
    "    coherence='c_v'\n",
    ")\n",
    "coherence_score = coherence_model.get_coherence()\n",
    "print(f\"Coherence Score: {coherence_score}\")"
   ]
  },
  {
   "cell_type": "code",
   "execution_count": null,
   "id": "3c3ff26a-153e-4ffc-bdf8-3bdc38f618d5",
   "metadata": {},
   "outputs": [],
   "source": [
    "!pip uninstall gensim\n",
    "!pip install gensim"
   ]
  },
  {
   "cell_type": "code",
   "execution_count": null,
   "id": "7fd339e8-bcf7-43b3-9824-549a96181ac4",
   "metadata": {},
   "outputs": [],
   "source": [
    "import numpy as np\n",
    "import pandas as pd\n",
    "from sklearn.feature_extraction.text import CountVectorizer, TfidfVectorizer\n",
    "from sklearn.decomposition import LatentDirichletAllocation\n",
    "from sklearn.preprocessing import normalize\n",
    "import matplotlib.pyplot as plt\n",
    "\n",
    "def advanced_lda_diagnostics(documents, min_topics=2, max_topics=15):\n",
    "    \"\"\"\n",
    "    Comprehensive LDA diagnostics to help identify optimal topic configuration\n",
    "    \n",
    "    Parameters:\n",
    "    documents: list of text documents\n",
    "    min_topics: minimum number of topics to try\n",
    "    max_topics: maximum number of topics to try\n",
    "    \n",
    "    Returns:\n",
    "    Dictionary with diagnostic information\n",
    "    \"\"\"\n",
    "    # Diagnostic storage\n",
    "    diagnostics = {\n",
    "        'topic_coherence': [],\n",
    "        'topic_saliency': [],\n",
    "        'perplexity_scores': []\n",
    "    }\n",
    "    \n",
    "    # Create different vectorization strategies\n",
    "    vectorizers = [\n",
    "        ('count', CountVectorizer(\n",
    "            max_features=5000, \n",
    "            stop_words=stop_words, \n",
    "            max_df=0.95, \n",
    "            min_df=2\n",
    "        )),\n",
    "        ('tfidf', TfidfVectorizer(\n",
    "            max_features=5000, \n",
    "            stop_words=stop_words, \n",
    "            max_df=0.95, \n",
    "            min_df=2\n",
    "        ))\n",
    "    ]\n",
    "    \n",
    "    for vec_name, vectorizer in vectorizers:\n",
    "        # Create document-term matrix\n",
    "        doc_term_matrix = vectorizer.fit_transform(documents)\n",
    "        \n",
    "        # Track results for this vectorization method\n",
    "        vec_diagnostics = {\n",
    "            'topic_saliency': [],\n",
    "            'perplexity_scores': []\n",
    "        }\n",
    "        \n",
    "        # Try different numbers of topics\n",
    "        for n_topics in range(min_topics, max_topics + 1):\n",
    "            # LDA with different configurations\n",
    "            lda_configs = [\n",
    "                # Default\n",
    "                LatentDirichletAllocation(\n",
    "                    n_components=n_topics, \n",
    "                    random_state=42, \n",
    "                    max_iter=20\n",
    "                ),\n",
    "                # Adjusted alpha (more balanced topics)\n",
    "                LatentDirichletAllocation(\n",
    "                    n_components=n_topics, \n",
    "                    random_state=42, \n",
    "                    max_iter=20,\n",
    "                    doc_topic_prior=1/n_topics,  # More uniform topic distribution\n",
    "                    topic_word_prior=1/doc_term_matrix.shape[1]\n",
    "                )\n",
    "            ]\n",
    "            \n",
    "            for lda_model in lda_configs:\n",
    "                # Fit LDA\n",
    "                lda_output = lda_model.fit_transform(doc_term_matrix)\n",
    "                \n",
    "                # Calculate topic saliency (max topic probability for each document)\n",
    "                max_topic_probs = lda_output.max(axis=1)\n",
    "                saliency = {\n",
    "                    'mean': max_topic_probs.mean(),\n",
    "                    'max': max_topic_probs.max(),\n",
    "                    'std': max_topic_probs.std()\n",
    "                }\n",
    "                vec_diagnostics['topic_saliency'].append(saliency)\n",
    "                \n",
    "                # Perplexity score\n",
    "                vec_diagnostics['perplexity_scores'].append(lda_model.perplexity(doc_term_matrix))\n",
    "        \n",
    "        # Aggregate results\n",
    "        diagnostics[f'{vec_name}_topic_saliency'] = vec_diagnostics['topic_saliency']\n",
    "        diagnostics[f'{vec_name}_perplexity_scores'] = vec_diagnostics['perplexity_scores']\n",
    "    \n",
    "    return diagnostics\n",
    "\n",
    "def visualize_lda_diagnostics(diagnostics):\n",
    "    \"\"\"\n",
    "    Create diagnostic plots to help understand topic distribution\n",
    "    \"\"\"\n",
    "    plt.figure(figsize=(15, 5))\n",
    "    \n",
    "    # Saliency plot\n",
    "    plt.subplot(131)\n",
    "    saliency_means = [d['mean'] for d in diagnostics['count_topic_saliency']]\n",
    "    plt.plot(range(2, 16), saliency_means, marker='o')\n",
    "    plt.title('Mean Topic Saliency')\n",
    "    plt.xlabel('Number of Topics')\n",
    "    plt.ylabel('Mean Max Topic Probability')\n",
    "    \n",
    "    # Perplexity plot\n",
    "    plt.subplot(132)\n",
    "    plt.plot(range(2, 16), diagnostics['count_perplexity_scores'], marker='o')\n",
    "    plt.title('Perplexity Score')\n",
    "    plt.xlabel('Number of Topics')\n",
    "    plt.ylabel('Perplexity')\n",
    "    \n",
    "    # Saliency distribution\n",
    "    plt.subplot(133)\n",
    "    plt.boxplot([d['max'] for d in diagnostics['count_topic_saliency']])\n",
    "    plt.title('Max Topic Probability Distribution')\n",
    "    plt.ylabel('Max Topic Probability')\n",
    "    \n",
    "    plt.tight_layout()\n",
    "    plt.show()\n",
    "\n",
    "# Example usage with placeholder documents\n",
    "example_documents = [\n",
    "    \"machine learning is important in data science\",\n",
    "    \"neural networks are a key component of deep learning\",\n",
    "    \"python programming helps in data analysis\",\n",
    "    # Add more documents...\n",
    "]\n",
    "\n",
    "# Run diagnostics\n",
    "diagnostics = advanced_lda_diagnostics(example_documents)\n",
    "\n",
    "# Visualize results\n",
    "visualize_lda_diagnostics(diagnostics)\n",
    "\n",
    "# Additional advanced technique: Topic Coherence\n",
    "def calculate_topic_coherence(lda_model, doc_term_matrix, vectorizer):\n",
    "    \"\"\"\n",
    "    Calculate topic coherence to assess topic quality\n",
    "    \"\"\"\n",
    "    feature_names = np.array(vectorizer.get_feature_names_out())\n",
    "    \n",
    "    # Get top terms for each topic\n",
    "    topic_terms = []\n",
    "    for topic_idx, topic in enumerate(lda_model.components_):\n",
    "        top_terms_ind = topic.argsort()[:-10 - 1:-1]\n",
    "        topic_terms.append(feature_names[top_terms_ind])\n",
    "    \n",
    "    return topic_terms"
   ]
  },
  {
   "cell_type": "code",
   "execution_count": null,
   "id": "9932db47-9153-4555-88a5-bafd1f25df74",
   "metadata": {},
   "outputs": [],
   "source": []
  }
 ],
 "metadata": {
  "kernelspec": {
   "display_name": "Python 3 (ipykernel)",
   "language": "python",
   "name": "python3"
  },
  "language_info": {
   "codemirror_mode": {
    "name": "ipython",
    "version": 3
   },
   "file_extension": ".py",
   "mimetype": "text/x-python",
   "name": "python",
   "nbconvert_exporter": "python",
   "pygments_lexer": "ipython3",
   "version": "3.12.2"
  }
 },
 "nbformat": 4,
 "nbformat_minor": 5
}
